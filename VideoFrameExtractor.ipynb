{
 "cells": [
  {
   "cell_type": "markdown",
   "id": "dab2feee",
   "metadata": {},
   "source": [
    "# Video Frame Extractor\n",
    "#### A simple video frame extractor that allows you to take out frames from videos to say train your machine learning application"
   ]
  },
  {
   "cell_type": "markdown",
   "id": "f447fd2b",
   "metadata": {},
   "source": [
    "##### To use this script, specify your input_folder_path, full_folder (whether you want to extract all videos from the specified folder or only a specific few (file_names)); your output_folder_path, and single_folder (whether you want everything to go into the same folder or be seperated under output_folder_path)"
   ]
  },
  {
   "cell_type": "code",
   "execution_count": 80,
   "id": "dd632069",
   "metadata": {},
   "outputs": [],
   "source": [
    "# Input path information\n",
    "input_folder_path = r\"C:\\Users\\wendy\\Desktop\\Videos\"\n",
    "full_folder = False\n",
    "file_names = [\"Shalo Dogs.mp4\",\"Trashtalk.mp4\"]\n",
    "\n",
    "# Output path information\n",
    "output_folder_path = r\"C:\\Users\\wendy\\Desktop\\TestVideos\"\n",
    "single_folder = False\n",
    "\n",
    "# Video file extensions\n",
    "video_extensions = ['.mp4', '.avi', '.mov', '.mkv'] \n"
   ]
  },
  {
   "cell_type": "code",
   "execution_count": 16,
   "id": "919e31c0",
   "metadata": {},
   "outputs": [],
   "source": [
    "import cv2                                                      # Note, if missing import, do pip install opencv-python\n",
    "import os"
   ]
  },
  {
   "cell_type": "code",
   "execution_count": 17,
   "id": "fa9777fd",
   "metadata": {},
   "outputs": [],
   "source": [
    "def is_valid_video_file(file_path):\n",
    "    return any(file_path.lower().endswith(ext) for ext in video_extensions)"
   ]
  },
  {
   "cell_type": "code",
   "execution_count": 21,
   "id": "b8d0a1ff",
   "metadata": {},
   "outputs": [],
   "source": [
    "# Extracting frames from 1 video\n",
    "def extract_frames(video_path, output_path, frame_name_prefix='frame'):\n",
    "    # 1. Prepare the output directory if it doesn't exist already\n",
    "    if not os.path.exists(output_path):\n",
    "        os.makedirs(output_path)\n",
    "\n",
    "    # 2. Open the video file\n",
    "    vid_cap = cv2.VideoCapture(video_path)\n",
    "    success, image = vid_cap.read()\n",
    "    count = 0\n",
    "\n",
    "    # 3. Loop through video frames and save them as images\n",
    "    while success:\n",
    "        frame_name = f'{frame_name_prefix}_{count}.jpg'                                     # Format frame file name\n",
    "        frame_path = os.path.join(output_path, frame_name)                                  # Join frame file path\n",
    "        cv2.imwrite(frame_path, image)                                                      # save frame as JPEG file\n",
    "        success, image = vid_cap.read()\n",
    "        count += 1\n",
    "\n",
    "    vid_cap.release()"
   ]
  },
  {
   "cell_type": "code",
   "execution_count": 7,
   "id": "1306a4cb",
   "metadata": {},
   "outputs": [],
   "source": [
    "# # Extracting clips from all videos within the folder\n",
    "# def extract_frames_from_folder(folder_path, output_folder, single_folder):\n",
    "#     for file in os.listdir(folder_path):                                                    # Go through each file within the folder\n",
    "#         if any(file.endswith(ext) for ext in video_extensions):                             # Operate only on the files with the correct extensions\n",
    "#             # 1. Get path of the video to operate on\n",
    "#             video_path = os.path.join(folder_path, file) \n",
    "\n",
    "#             # 2. Define output path\n",
    "#             output_path = output_folder\n",
    "#             if not single_folder:\n",
    "#             # 2.1 If each video should be seperated into different folders\n",
    "#                 video_name = os.path.splitext(file)[0]\n",
    "#                 output_path = os.path.join(output_folder, video_name)\n",
    "\n",
    "#             # 3. Call helper function to extract video frames          \n",
    "#             extract_frames(video_path, output_path)"
   ]
  },
  {
   "cell_type": "code",
   "execution_count": null,
   "id": "72e13cd4",
   "metadata": {},
   "outputs": [],
   "source": [
    "# def extract_frames_from_list(video_paths, output_folder, single_folder):\n",
    "#     for video_path in video_paths:\n",
    "#         # 1. Verify that files exist\n",
    "#         if not os.path.isfile(video_path):\n",
    "#             print(f\"File not found: {video_path}\")\n",
    "#             continue\n",
    "        \n",
    "#         # 2. Verify that file is in a valid video format\n",
    "#         if not is_valid_video_file(video_path):\n",
    "#             print(f\"Invalid file format: {video_path}\")\n",
    "#             continue \n",
    "\n",
    "#         # 3. Define output path\n",
    "#         if single_folder:\n",
    "#             output_path = output_folder\n",
    "#         else:\n",
    "#             video_name = os.path.splitext(video_name)[0]\n",
    "#             output_path = os.path.join(output_folder, video_name)\n",
    "\n",
    "#         # 3. Call helper function to extract video frames \n",
    "#         extract_frames(video_path, output_path)"
   ]
  },
  {
   "cell_type": "code",
   "execution_count": 72,
   "id": "682f36ce",
   "metadata": {},
   "outputs": [],
   "source": [
    "def extract_frames_from_input(input_data, output_folder, single_folder, max_videos=None):    \n",
    "    # 1. Try distinguishing the input type\n",
    "    video_paths = []\n",
    "\n",
    "    if isinstance(input_data, list):                                            # Input is a list of file paths\n",
    "        for input_item in input_data:\n",
    "            # 1. Create the absolute filepath for each file\n",
    "            file_path = os.path.join(input_folder_path, input_item)\n",
    "\n",
    "            # 2. Check if input file exist and whether it has the correct extension\n",
    "            if os.path.isfile(file_path) and is_valid_video_file(file_path):\n",
    "                video_paths.append(file_path)\n",
    "\n",
    "    elif isinstance(input_data, str):                                           # Input is the entire input folder\n",
    "        folder_path = input_data\n",
    "        file_list = os.listdir(folder_path)\n",
    "        video_paths = [os.path.join(folder_path, file) for file in file_list if is_valid_video_file(file)]\n",
    "\n",
    "    # 2. Extract clips from each video listed in video_paths\n",
    "    for video_path in video_paths:\n",
    "        # 2.1 File format check\n",
    "        if not is_valid_video_file(video_path):\n",
    "            print(f\"Invalid file format: {video_path}\")\n",
    "            continue\n",
    "        \n",
    "        # 2.2 Prepare frame prefix to name the output files\n",
    "        frame_prefix = \"frame\"\n",
    "        if single_folder:\n",
    "            output_path = output_folder\n",
    "            frame_prefix = os.path.splitext(os.path.basename(video_path))[0]\n",
    "        else:\n",
    "            video_name = os.path.splitext(os.path.basename(video_path))[0]\n",
    "            output_path = os.path.join(output_folder, video_name)\n",
    "\n",
    "        # 2.3 Extract frame and save it in output_path\n",
    "        extract_frames(video_path, output_path, frame_prefix)"
   ]
  },
  {
   "cell_type": "code",
   "execution_count": 81,
   "id": "91ba69ae",
   "metadata": {},
   "outputs": [
    {
     "name": "stdout",
     "output_type": "stream",
     "text": [
      "Extracting video clips from list of videos\n",
      "Frames extraction completed.\n"
     ]
    }
   ],
   "source": [
    "if full_folder:\n",
    "    # Extracting clips from all videos within the folder\n",
    "    print(\"Directory of videos to extract frames from: \", input_folder_path)\n",
    "    extract_frames_from_input(input_folder_path, output_folder_path, single_folder)\n",
    "\n",
    "else:\n",
    "    print(\"Extracting video clips from list of videos\")\n",
    "    extract_frames_from_input(file_names, output_folder_path, single_folder)\n",
    "\n",
    "print(\"Frames extraction completed.\")"
   ]
  }
 ],
 "metadata": {
  "interpreter": {
   "hash": "cabec5d0db030e9e53efe6ea18a503733fc8c1b95a90cfd697e6feb7e73f8562"
  },
  "kernelspec": {
   "display_name": "Python 3.10.4 64-bit",
   "name": "python3"
  },
  "language_info": {
   "codemirror_mode": {
    "name": "ipython",
    "version": 3
   },
   "file_extension": ".py",
   "mimetype": "text/x-python",
   "name": "python",
   "nbconvert_exporter": "python",
   "pygments_lexer": "ipython3",
   "version": "3.10.4"
  }
 },
 "nbformat": 4,
 "nbformat_minor": 5
}
