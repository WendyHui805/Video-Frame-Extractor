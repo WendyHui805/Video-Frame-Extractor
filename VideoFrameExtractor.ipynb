{
 "cells": [
  {
   "cell_type": "markdown",
   "id": "dab2feee",
   "metadata": {},
   "source": [
    "# Video Frame Extractor\n",
    "#### A simple video frame extractor that allows you to take out frames from videos to say train your machine learning application"
   ]
  },
  {
   "cell_type": "markdown",
   "id": "f447fd2b",
   "metadata": {},
   "source": [
    "##### To use this script, specify your input_folder_path, full_folder (whether you want to extract all videos from the specified folder or only a specific few (file_names)); your output_folder_path, and single_folder (whether you want everything to go into the same folder or be seperated under output_folder_path)"
   ]
  },
  {
   "cell_type": "code",
   "execution_count": 2,
   "id": "dd632069",
   "metadata": {},
   "outputs": [],
   "source": [
    "# Input path information\n",
    "input_folder_path = \"\"\n",
    "full_folder = False\n",
    "file_names = []\n",
    "\n",
    "# Output path information\n",
    "output_folder_path = \"\"\n",
    "single_folder = True\n"
   ]
  },
  {
   "cell_type": "code",
   "execution_count": null,
   "id": "919e31c0",
   "metadata": {},
   "outputs": [],
   "source": [
    "import cv2                                                      # Note, if missing import, do pip install opencv-python\n",
    "import os"
   ]
  }
 ],
 "metadata": {
  "interpreter": {
   "hash": "cabec5d0db030e9e53efe6ea18a503733fc8c1b95a90cfd697e6feb7e73f8562"
  },
  "kernelspec": {
   "display_name": "Python 3.10.4 64-bit",
   "name": "python3"
  },
  "language_info": {
   "codemirror_mode": {
    "name": "ipython",
    "version": 3
   },
   "file_extension": ".py",
   "mimetype": "text/x-python",
   "name": "python",
   "nbconvert_exporter": "python",
   "pygments_lexer": "ipython3",
   "version": "3.10.4"
  }
 },
 "nbformat": 4,
 "nbformat_minor": 5
}
